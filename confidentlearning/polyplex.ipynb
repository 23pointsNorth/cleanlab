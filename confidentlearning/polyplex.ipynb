{
 "cells": [
  {
   "cell_type": "markdown",
   "metadata": {},
   "source": [
    "## The Polyplex\n",
    "\n",
    "### The polyplex is a geometric solution for the domain of $trace (P_{s,y})$ given $trace (P_{s \\vert y})$ for some the latent prior $p(y)$. Like the simplex, the polyplex describes the domain of a probabilistic quantity, but unlike the simplex, the coordinates need not sum to one and the shape is instead defined by a convex polyhedron, hence the name. Understanding the domain of the trace, as opposed to the matrices themselves, is of fundamental importance to confident learning because the diagonal terms of these matrices are what determine learnability and the class re-weighting coefficients. Polyplices connect our learnability theory with our algorithms. Consider the canonical example when $trace (P_{s \\vert y}) = m$, then $P_{s \\vert y}=\\mathbf{I}$ and all noise rates (non-diagonal entries) are zero. Thus, $P_{s,y} = \\mathbf{I}$ and $trace (P_{s,y}) = m$. In this vacuous example, $s = y, p(s) = p(y), P_{s,y} = \\mathbf{I} \\cdot p(s)$, and $P_{y \\vert s} = P_{s \\vert y} = \\mathbf{I}$, all of which was determined from the trace. The role of the polyplex is to generalize to non-vacuous cases by using the geometry of confident learning to solve for $trace (P_{s,y})$ given $trace (P_{s \\vert y})$ for some $p(y)$."
   ]
  },
  {
   "cell_type": "code",
   "execution_count": 3,
   "metadata": {},
   "outputs": [],
   "source": [
    "from __future__ import print_function, absolute_import, division, unicode_literals, with_statement\n",
    "import numpy as np"
   ]
  },
  {
   "cell_type": "code",
   "execution_count": 2,
   "metadata": {},
   "outputs": [],
   "source": [
    "def slope_intercept(point1, point2):\n",
    "    '''Returns the slope and intercept between point1 and point2.\n",
    "    \n",
    "    Parameters\n",
    "    ----------    \n",
    "    point1 : tuple\n",
    "       e.g. (1.3, 4)\n",
    "       \n",
    "    point2 : tuple\n",
    "    \n",
    "    Output\n",
    "    ------      \n",
    "      A tuple(slope, intercept)'''\n",
    "    \n",
    "    (x0, y0) = point1\n",
    "    (x1, y1) = point2\n",
    "    slope = (y1 - y0) / float(x1 - x0)\n",
    "    intercept = y1 - slope * x1\n",
    "    return slope, intercept\n",
    "\n",
    "def joint_bounds(py):\n",
    "    '''Computes three lists: noise_matrix_trace, joint_trace_min, joint_trace_max that when\n",
    "    plotted, the noise_matrix_trace values represent x-values and the joint_trace_min and \n",
    "    joint_trace_max values represent the y-value min and maximium ranges. Together, these \n",
    "    three lists fully characterize the polyplex.\n",
    "\n",
    "    Parameters\n",
    "    ----------\n",
    "\n",
    "    py : np.array (shape (K, 1))\n",
    "        The fraction (prior probability) of each true, hidden class label, P(y = k)\n",
    "        \n",
    "    Output\n",
    "    ------\n",
    "        A tuple of lists of floats (noise_matrix_trace, joint_trace_min, joint_trace_max)\n",
    "        each of length K+1, where K = len(py). When plotted, the noise_matrix_trace values\n",
    "        represent x-values and the joint_trace_min and joint_trace_max values represent the\n",
    "        y-value min and maximium ranges. These three lists fully characterize the polyplex.'''\n",
    "    \n",
    "    K = len(py)\n",
    "    py = np.sort(py)[::-1] \n",
    "    noise_matrix_trace = np.arange(K+1)    \n",
    "    joint_trace_min, total = [1], 1\n",
    "    for p in py:\n",
    "        joint_trace_min.append(total - p)\n",
    "        total -= p \n",
    "    joint_trace_min = np.flip(joint_trace_min, axis=0)\n",
    "    joint_trace_max = 1 - joint_trace_min[::-1]\n",
    "    return noise_matrix_trace, joint_trace_min, joint_trace_max\n",
    "\n",
    "def joint_min_max(noise_matrix_trace, py):\n",
    "    '''Computes the min and max bounds on the trace(P_{s,y}), the trace of the \n",
    "    joint distribution, given the trace of the noise matrix and p(y).\n",
    "\n",
    "    Parameters\n",
    "    ----------\n",
    "\n",
    "    py : np.array (shape (K, 1))\n",
    "        The fraction (prior probability) of each true, hidden class label, P(y = k)\n",
    "        \n",
    "    Output\n",
    "    ------\n",
    "        A tuple of two floats (y_min, y_max) representing the bounds on the trace of the joint.'''\n",
    "    _, y_mins, y_maxs = joint_bounds(py)\n",
    "    if int(noise_matrix_trace) == noise_matrix_trace:\n",
    "        return y_mins[int(noise_matrix_trace)], y_maxs[int(noise_matrix_trace)]\n",
    "    else:\n",
    "        slope_min = y_mins[int(noise_matrix_trace)+1] - y_mins[int(noise_matrix_trace)]\n",
    "        y_min = (noise_matrix_trace - int(noise_matrix_trace)) * slope_min + y_mins[int(noise_matrix_trace)]\n",
    "        slope_max = y_maxs[int(noise_matrix_trace)+1] - y_maxs[int(noise_matrix_trace)]\n",
    "        y_max = (noise_matrix_trace - int(noise_matrix_trace)) * slope_max + y_maxs[int(noise_matrix_trace)]\n",
    "        return y_min, y_max"
   ]
  },
  {
   "cell_type": "code",
   "execution_count": null,
   "metadata": {},
   "outputs": [],
   "source": []
  }
 ],
 "metadata": {
  "kernelspec": {
   "display_name": "Python 3",
   "language": "python",
   "name": "python3"
  },
  "language_info": {
   "codemirror_mode": {
    "name": "ipython",
    "version": 3
   },
   "file_extension": ".py",
   "mimetype": "text/x-python",
   "name": "python",
   "nbconvert_exporter": "python",
   "pygments_lexer": "ipython3",
   "version": "3.6.5"
  }
 },
 "nbformat": 4,
 "nbformat_minor": 2
}
