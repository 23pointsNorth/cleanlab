{
 "cells": [
  {
   "cell_type": "code",
   "execution_count": 1,
   "metadata": {},
   "outputs": [],
   "source": [
    "from __future__ import print_function, absolute_import, division, unicode_literals, with_statement\n",
    "\n",
    "import numpy as np\n",
    "from cleanlab.classification import RankPruning\n",
    "from cleanlab.noise_generation import generate_noise_matrix_from_trace\n",
    "from cleanlab.noise_generation import generate_noisy_labels\n",
    "from sklearn.linear_model import LogisticRegression\n",
    "from numpy.random import multivariate_normal\n",
    "\n",
    "import pytest"
   ]
  },
  {
   "cell_type": "code",
   "execution_count": 2,
   "metadata": {},
   "outputs": [],
   "source": [
    "def make_data(\n",
    "    means = [ [3, 2], [7, 7], [0, 8] ],\n",
    "    covs = [ [[5, -1.5],[-1.5, 1]] , [[1, 0.5],[0.5, 4]], [[5, 1],[1, 5]] ],\n",
    "    sizes = [ 800, 400, 400 ],\n",
    "    avg_trace = 0.5,\n",
    "    seed = 0, # set to None for non-reproducible randomness\n",
    "):\n",
    "    \n",
    "    np.random.seed(seed = seed)\n",
    "\n",
    "    K = len(means) # number of classes\n",
    "    data = []\n",
    "    labels = []\n",
    "    test_data = []\n",
    "    test_labels = []\n",
    "\n",
    "    for idx in range(len(means)):\n",
    "        data.append(np.random.multivariate_normal(mean=means[idx], cov=covs[idx], size=sizes[idx]))\n",
    "        test_data.append(np.random.multivariate_normal(mean=means[idx], cov=covs[idx], size=sizes[idx]))\n",
    "        labels.append(np.array([idx for i in range(sizes[idx])]))\n",
    "        test_labels.append(np.array([idx for i in range(sizes[idx])]))\n",
    "    X_train = np.vstack(data)\n",
    "    y_train = np.hstack(labels)\n",
    "    X_test = np.vstack(test_data)\n",
    "    y_test = np.hstack(test_labels) \n",
    "\n",
    "    # Compute p(y=k)\n",
    "    py = np.bincount(y_train) / float(len(y_train))\n",
    "\n",
    "    noise_matrix = generate_noise_matrix_from_trace(\n",
    "      K, \n",
    "      trace = avg_trace * K,\n",
    "      py = py,\n",
    "      valid_noise_matrix = True,\n",
    "    )\n",
    "\n",
    "    # Generate our noisy labels using the noise_marix.\n",
    "    s = generate_noisy_labels(y_train, noise_matrix)\n",
    "    ps = np.bincount(s) / float(len(s))\n",
    "    \n",
    "    return {\n",
    "        \"X_train\" : X_train,\n",
    "        \"y_train\" : y_train,\n",
    "        \"X_test\" : X_test,\n",
    "        \"y_test\" : y_test,\n",
    "        \"s\" : s,\n",
    "        \"ps\" : ps,\n",
    "        \"py\" : py,\n",
    "        \"noise_matrix\" : noise_matrix,\n",
    "    }"
   ]
  },
  {
   "cell_type": "code",
   "execution_count": 3,
   "metadata": {},
   "outputs": [],
   "source": [
    "def test_rp():\n",
    "    seed = 46\n",
    "    data = make_data(seed = seed)\n",
    "    rp = RankPruning(clf = LogisticRegression(multi_class='auto', solver='lbfgs', random_state=seed))\n",
    "    rp.fit(data[\"X_train\"], data[\"s\"])\n",
    "    score = rp.score(data[\"X_test\"], data[\"y_test\"])\n",
    "    assert(abs(score - 0.88) < 0.01)"
   ]
  }
 ],
 "metadata": {
  "kernelspec": {
   "display_name": "Python 3",
   "language": "python",
   "name": "python3"
  },
  "language_info": {
   "codemirror_mode": {
    "name": "ipython",
    "version": 3
   },
   "file_extension": ".py",
   "mimetype": "text/x-python",
   "name": "python",
   "nbconvert_exporter": "python",
   "pygments_lexer": "ipython3",
   "version": "3.7.0"
  }
 },
 "nbformat": 4,
 "nbformat_minor": 2
}
